{
 "cells": [
  {
   "cell_type": "markdown",
   "metadata": {},
   "source": [
    "# Converts wav to csv.  Used for generating test data.\n",
    "Code below should be functionized if required for re-use"
   ]
  },
  {
   "cell_type": "code",
   "execution_count": 4,
   "metadata": {},
   "outputs": [],
   "source": [
    "import scipy.io.wavfile as wv\n",
    "import csv\n",
    "import pandas as pd"
   ]
  },
  {
   "cell_type": "code",
   "execution_count": null,
   "metadata": {},
   "outputs": [],
   "source": [
    "# Read the .wav file\n",
    "w = wv.read('../tests/data/hipass/bark_highpass_1000Hz_24db.wav')"
   ]
  },
  {
   "cell_type": "code",
   "execution_count": 23,
   "metadata": {},
   "outputs": [],
   "source": [
    "# Write to .csv file\n",
    "with open('../tests/data/hipass/bark_highpass_1000Hz_24db.csv', 'w') as f:\n",
    "    writer = csv.writer(f , lineterminator='\\n')\n",
    "    for tup in w[1]:\n",
    "        writer.writerow(tup)\n",
    "        \n",
    "f.close()"
   ]
  },
  {
   "cell_type": "markdown",
   "metadata": {},
   "source": [
    "Scratch space for low pass:"
   ]
  },
  {
   "cell_type": "code",
   "execution_count": 49,
   "metadata": {},
   "outputs": [],
   "source": [
    "# Read the .wav file\n",
    "#c = pd.read_csv('../tests/data/bark.csv')\n",
    "c = np.genfromtxt('../tests/data/bark.csv', dtype = 'float32')"
   ]
  },
  {
   "cell_type": "code",
   "execution_count": 50,
   "metadata": {},
   "outputs": [],
   "source": [
    "%run ../audiofilters/low_pass_filter.py\n",
    "out = low_pass_filter(c, 1000)\n",
    "\n"
   ]
  },
  {
   "cell_type": "code",
   "execution_count": 47,
   "metadata": {},
   "outputs": [],
   "source": [
    "from __future__ import division\n",
    " \n",
    "import numpy as np\n",
    " \n",
    "fc = 1000/44100  # Cutoff frequency as a fraction of the sampling rate (in (0, 0.5)).\n",
    "b = 0.08  # Transition band, as a fraction of the sampling rate (in (0, 0.5)).\n",
    "N = int(np.ceil((4 / b)))\n",
    "if not N % 2: N += 1  # Make sure that N is odd.\n",
    "n = np.arange(N)\n",
    " \n",
    "# Compute sinc filter.\n",
    "h = np.sinc(2 * fc * (n - (N - 1) / 2))\n",
    " \n",
    "# Compute Blackman window.\n",
    "w = 0.42 - 0.5 * np.cos(2 * np.pi * n / (N - 1)) + \\\n",
    "    0.08 * np.cos(4 * np.pi * n / (N - 1))\n",
    " \n",
    "# Multiply sinc filter with window.\n",
    "h = h * w\n",
    " \n",
    "# Normalize to get unity gain.\n",
    "h = h / np.sum(h)\n",
    "\n",
    "\n",
    "out = np.convolve(c, h)"
   ]
  },
  {
   "cell_type": "code",
   "execution_count": 51,
   "metadata": {},
   "outputs": [],
   "source": [
    "np.savetxt(\"myfn.csv\", out, delimiter=\",\")"
   ]
  },
  {
   "cell_type": "markdown",
   "metadata": {},
   "source": [
    "#"
   ]
  }
 ],
 "metadata": {
  "kernelspec": {
   "display_name": "Python 3",
   "language": "python",
   "name": "python3"
  },
  "language_info": {
   "codemirror_mode": {
    "name": "ipython",
    "version": 3
   },
   "file_extension": ".py",
   "mimetype": "text/x-python",
   "name": "python",
   "nbconvert_exporter": "python",
   "pygments_lexer": "ipython3",
   "version": "3.6.8"
  },
  "varInspector": {
   "cols": {
    "lenName": 16,
    "lenType": 16,
    "lenVar": 40
   },
   "kernels_config": {
    "python": {
     "delete_cmd_postfix": "",
     "delete_cmd_prefix": "del ",
     "library": "var_list.py",
     "varRefreshCmd": "print(var_dic_list())"
    },
    "r": {
     "delete_cmd_postfix": ") ",
     "delete_cmd_prefix": "rm(",
     "library": "var_list.r",
     "varRefreshCmd": "cat(var_dic_list()) "
    }
   },
   "types_to_exclude": [
    "module",
    "function",
    "builtin_function_or_method",
    "instance",
    "_Feature"
   ],
   "window_display": false
  }
 },
 "nbformat": 4,
 "nbformat_minor": 2
}
